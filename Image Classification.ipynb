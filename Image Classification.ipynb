{
  "cells": [
    {
      "cell_type": "markdown",
      "metadata": {
        "id": "3mtgC2Q3V7Vc"
      },
      "source": [
        "# Define image dimensions, batch size and epochs\n",
        "\n"
      ]
    },
    {
      "cell_type": "code",
      "execution_count": 6,
      "metadata": {
        "id": "tMIeAk0bV_43"
      },
      "outputs": [],
      "source": [
        "image_height = 256\n",
        "image_width = 256\n",
        "batch_size = 128\n",
        "epochs = 10"
      ]
    },
    {
      "cell_type": "markdown",
      "metadata": {
        "id": "LajSI3WqUg6B"
      },
      "source": [
        "# Define paths to your dataset"
      ]
    },
    {
      "cell_type": "code",
      "execution_count": 7,
      "metadata": {
        "id": "TUwiAX-DhvaS"
      },
      "outputs": [],
      "source": [
        "train_directory = 'Datasets/train_add'\n",
        "validation_directory = 'Datasets/validation'\n",
        "test_directory = 'Datasets/test'"
      ]
    },
    {
      "cell_type": "markdown",
      "metadata": {
        "id": "ICJfEk6dVEvF"
      },
      "source": [
        "# Import libraries we use"
      ]
    },
    {
      "cell_type": "code",
      "execution_count": 26,
      "metadata": {
        "id": "LrddTTx-V3wF"
      },
      "outputs": [],
      "source": [
        "import tensorflow as tf\n",
        "import numpy as np\n",
        "import pandas as pd\n",
        "import matplotlib.pyplot as plt\n",
        "import os\n",
        "\n",
        "from keras.preprocessing import image\n",
        "from keras.preprocessing.image import ImageDataGenerator\n",
        "from keras import models\n",
        "from keras.models import load_model\n",
        "from keras.models import Sequential\n",
        "from keras.layers import Conv2D, Dense, MaxPooling2D, Flatten, Dropout\n",
        "from PIL import Image"
      ]
    },
    {
      "cell_type": "markdown",
      "metadata": {
        "id": "PdE93EOSWu69"
      },
      "source": [
        "# Create data generators with data augmentation"
      ]
    },
    {
      "cell_type": "code",
      "execution_count": 9,
      "metadata": {
        "id": "TpWbepwsXzXj"
      },
      "outputs": [],
      "source": [
        "ImageFlow = ImageDataGenerator(\n",
        "    rescale=1/255,\n",
        "    validation_split=0.25,\n",
        "    rotation_range=40,\n",
        "    width_shift_range=0.2,\n",
        "    height_shift_range=0.2,\n",
        "    shear_range=0.2,\n",
        "    zoom_range=0.2,\n",
        "    horizontal_flip=True,\n",
        "    fill_mode='nearest'\n",
        ")"
      ]
    },
    {
      "cell_type": "markdown",
      "metadata": {
        "id": "Cn42j4Vx-4hZ"
      },
      "source": [
        "# Augment the dataset"
      ]
    },
    {
      "cell_type": "code",
      "execution_count": 10,
      "metadata": {
        "id": "IiLiDi60--nT"
      },
      "outputs": [],
      "source": [
        "classes = ['apple', 'banana', 'mixed', 'orange']\n",
        "\n",
        "for class_name in classes:\n",
        "    # Create a directory for each class\n",
        "    image_directory = os.path.join(train_directory, class_name)\n",
        "\n",
        "    for file_path in os.listdir(image_directory):\n",
        "        # Check if the file is an image\n",
        "        if os.path.isfile(file_path) and any(file_path.lower().endswith(ext) for ext in ['.png', '.jpg', '.jpeg']):\n",
        "            # Open the image\n",
        "            img = Image.open(file_path)\n",
        "\n",
        "            # Check if the image has a palette\n",
        "            if img.mode == 'P':\n",
        "                # Convert the image to RGB\n",
        "                img_rgb = img.convert('RGB')\n",
        "\n",
        "                # Save the converted image, you can overwrite the original or save to a new file\n",
        "                img_rgb.save(file_path)\n",
        "\n",
        "                print(f\"Converted {filename} to RGB\")\n",
        "\n",
        "    # Iterate over all the files in the directory\n",
        "    for filename in os.listdir(image_directory):\n",
        "        if filename.endswith('.jpg'):\n",
        "            # Open the image file\n",
        "            image_path = os.path.join(image_directory, filename)\n",
        "            image = Image.open(image_path)\n",
        "\n",
        "            # Convert the image to RGB mode\n",
        "            image = image.convert('RGB')\n",
        "\n",
        "            # Save the image with the same name\n",
        "            image.save(image_path)\n",
        "\n",
        "            # Close the image file\n",
        "            image.close()\n",
        "\n",
        "    # Generate augmented images and save them to the train dataset directory\n",
        "    for filename in os.listdir(image_directory):\n",
        "        img_path = os.path.join(image_directory, filename)\n",
        "        img = plt.imread(img_path)  # Read the image using matplotlib\n",
        "        img = img.reshape((1,) + img.shape)  # Reshape the image for augmentation\n",
        "        save_dir = image_directory  # Set the directory to save the augmented images\n",
        "        save_prefix = filename.split('.')[0] # Set the prefix for the saved images\n",
        "        save_format = 'jpg'  # Set the format for the saved images\n",
        "\n",
        "        # Generate augmented images and save them\n",
        "        i = 0\n",
        "        for batch in ImageFlow.flow(img, save_to_dir=save_dir, save_prefix=save_prefix, save_format=save_format):\n",
        "            # Set the number of augmented images to generate\n",
        "            number_of_augmented_images = 6 if class_name == 'mixed' else 3\n",
        "\n",
        "            i += 1\n",
        "            if i >= number_of_augmented_images:  # Generate 5 augmented images for each original image\n",
        "                break"
      ]
    },
    {
      "cell_type": "markdown",
      "metadata": {
        "id": "bW8yLrB_Z9QH"
      },
      "source": [
        "## Flow images in batches using the generators"
      ]
    },
    {
      "cell_type": "code",
      "execution_count": 11,
      "metadata": {
        "colab": {
          "base_uri": "https://localhost:8080/"
        },
        "id": "1gY_fGWpZ2Hj",
        "outputId": "54efdf02-6844-4099-873f-961f6f3b0595"
      },
      "outputs": [
        {
          "name": "stdout",
          "output_type": "stream",
          "text": [
            "Found 823 images belonging to 4 classes.\n"
          ]
        }
      ],
      "source": [
        "train_generator = ImageFlow.flow_from_directory(\n",
        "    train_directory,\n",
        "    target_size=(image_height, image_width),\n",
        "    batch_size=batch_size,\n",
        "    class_mode='categorical',\n",
        "    color_mode='rgb',\n",
        "    subset='training'\n",
        ")"
      ]
    },
    {
      "cell_type": "code",
      "execution_count": 12,
      "metadata": {
        "colab": {
          "base_uri": "https://localhost:8080/"
        },
        "id": "om8W7X96aCjN",
        "outputId": "d46f23ca-eb82-4324-d67f-85c0c2efe5dc"
      },
      "outputs": [
        {
          "name": "stdout",
          "output_type": "stream",
          "text": [
            "Found 274 images belonging to 4 classes.\n"
          ]
        }
      ],
      "source": [
        "validation_generator = ImageFlow.flow_from_directory(\n",
        "    train_directory,\n",
        "    target_size=(image_height, image_width),\n",
        "    batch_size=batch_size,\n",
        "    class_mode='categorical',\n",
        "    color_mode='rgb',\n",
        "    subset='validation'\n",
        ")"
      ]
    },
    {
      "cell_type": "code",
      "execution_count": 13,
      "metadata": {
        "colab": {
          "base_uri": "https://localhost:8080/"
        },
        "id": "bXWZ0KpIphIQ",
        "outputId": "4de5b5e8-352b-4aa1-ebd4-77efc9c68229"
      },
      "outputs": [
        {
          "name": "stdout",
          "output_type": "stream",
          "text": [
            "6\n"
          ]
        }
      ],
      "source": [
        "steps_per_epoch = train_generator.n//batch_size\n",
        "\n",
        "print(steps_per_epoch)"
      ]
    },
    {
      "cell_type": "markdown",
      "metadata": {
        "id": "kuuI0rhOaMfr"
      },
      "source": [
        "# Define the CNN model"
      ]
    },
    {
      "cell_type": "code",
      "execution_count": 14,
      "metadata": {
        "id": "mGCigvFOaQsV"
      },
      "outputs": [],
      "source": [
        "model = Sequential()\n",
        "model.add(Conv2D(32, (3, 3), activation='relu', input_shape=(image_height, image_width, 3)))\n",
        "model.add(MaxPooling2D((2, 2)))\n",
        "model.add(Conv2D(64, (3, 3), activation='relu'))\n",
        "model.add(MaxPooling2D((2, 2)))\n",
        "model.add(Conv2D(128, (3, 3), activation='relu'))\n",
        "model.add(MaxPooling2D((2, 2)))\n",
        "model.add(Flatten())\n",
        "model.add(Dense(128, activation='relu'))\n",
        "model.add(Dropout(0.5))\n",
        "model.add(Dense(4, activation='softmax'))  # 4 classes: apple, banana, mixed, orange"
      ]
    },
    {
      "cell_type": "markdown",
      "metadata": {
        "id": "ftV-EJEEaR4i"
      },
      "source": [
        "# Compile the model"
      ]
    },
    {
      "cell_type": "code",
      "execution_count": 15,
      "metadata": {
        "colab": {
          "base_uri": "https://localhost:8080/"
        },
        "id": "OiQHMXAWabQD",
        "outputId": "6305d4f4-ee14-419f-d114-bd01155b23d2"
      },
      "outputs": [
        {
          "name": "stdout",
          "output_type": "stream",
          "text": [
            "Model: \"sequential\"\n",
            "_________________________________________________________________\n",
            " Layer (type)                Output Shape              Param #   \n",
            "=================================================================\n",
            " conv2d (Conv2D)             (None, 254, 254, 32)      896       \n",
            "                                                                 \n",
            " max_pooling2d (MaxPooling2  (None, 127, 127, 32)      0         \n",
            " D)                                                              \n"
          ]
        },
        {
          "name": "stdout",
          "output_type": "stream",
          "text": [
            "                                                                 \n",
            " conv2d_1 (Conv2D)           (None, 125, 125, 64)      18496     \n",
            "                                                                 \n",
            " max_pooling2d_1 (MaxPoolin  (None, 62, 62, 64)        0         \n",
            " g2D)                                                            \n",
            "                                                                 \n",
            " conv2d_2 (Conv2D)           (None, 60, 60, 128)       73856     \n",
            "                                                                 \n",
            " max_pooling2d_2 (MaxPoolin  (None, 30, 30, 128)       0         \n",
            " g2D)                                                            \n",
            "                                                                 \n",
            " flatten (Flatten)           (None, 115200)            0         \n",
            "                                                                 \n",
            " dense (Dense)               (None, 128)               14745728  \n",
            "                                                                 \n",
            " dropout (Dropout)           (None, 128)               0         \n",
            "                                                                 \n",
            " dense_1 (Dense)             (None, 4)                 516       \n",
            "                                                                 \n",
            "=================================================================\n",
            "Total params: 14839492 (56.61 MB)\n",
            "Trainable params: 14839492 (56.61 MB)\n",
            "Non-trainable params: 0 (0.00 Byte)\n",
            "_________________________________________________________________\n"
          ]
        }
      ],
      "source": [
        "model.compile(optimizer='adam',\n",
        "              loss='categorical_crossentropy',\n",
        "              metrics=['accuracy'])\n",
        "\n",
        "model.summary()"
      ]
    },
    {
      "cell_type": "markdown",
      "metadata": {
        "id": "V9RTvobEacY0"
      },
      "source": [
        "# Train the model"
      ]
    },
    {
      "cell_type": "code",
      "execution_count": 21,
      "metadata": {
        "colab": {
          "base_uri": "https://localhost:8080/"
        },
        "id": "jBaXppkVb5bq",
        "outputId": "b8331f42-503d-48a6-f7f4-2ee3eec02ce4"
      },
      "outputs": [
        {
          "name": "stdout",
          "output_type": "stream",
          "text": [
            "Epoch 1/10\n",
            "6/6 [==============================] - 250s 44s/step - loss: 0.4473 - accuracy: 0.8388 - val_loss: 0.5776 - val_accuracy: 0.8431\n",
            "Epoch 2/10\n",
            "6/6 [==============================] - 219s 35s/step - loss: 0.4022 - accuracy: 0.8532 - val_loss: 0.6060 - val_accuracy: 0.8504\n",
            "Epoch 3/10\n",
            "6/6 [==============================] - 220s 35s/step - loss: 0.3778 - accuracy: 0.8489 - val_loss: 0.4852 - val_accuracy: 0.9015\n",
            "Epoch 4/10\n",
            "6/6 [==============================] - 259s 43s/step - loss: 0.3703 - accuracy: 0.8619 - val_loss: 0.5052 - val_accuracy: 0.8759\n",
            "Epoch 5/10\n",
            "6/6 [==============================] - 254s 42s/step - loss: 0.3445 - accuracy: 0.8763 - val_loss: 0.5754 - val_accuracy: 0.8796\n",
            "Epoch 6/10\n",
            "6/6 [==============================] - 679s 39s/step - loss: 0.3087 - accuracy: 0.8849 - val_loss: 0.6998 - val_accuracy: 0.8577\n",
            "Epoch 7/10\n",
            "6/6 [==============================] - 242s 38s/step - loss: 0.2998 - accuracy: 0.8878 - val_loss: 0.4957 - val_accuracy: 0.8978\n",
            "Epoch 8/10\n",
            "6/6 [==============================] - 248s 40s/step - loss: 0.2813 - accuracy: 0.8993 - val_loss: 0.5520 - val_accuracy: 0.8686\n",
            "Epoch 9/10\n",
            "6/6 [==============================] - 244s 38s/step - loss: 0.3380 - accuracy: 0.8561 - val_loss: 0.8709 - val_accuracy: 0.8285\n",
            "Epoch 10/10\n",
            "6/6 [==============================] - 227s 42s/step - loss: 0.3459 - accuracy: 0.8691 - val_loss: 0.6162 - val_accuracy: 0.8686\n"
          ]
        }
      ],
      "source": [
        "history = model.fit(\n",
        "    train_generator,\n",
        "    steps_per_epoch=steps_per_epoch,\n",
        "    batch_size=batch_size,\n",
        "    epochs=epochs,\n",
        "    validation_data=validation_generator\n",
        ")"
      ]
    },
    {
      "cell_type": "markdown",
      "metadata": {
        "id": "5rRUv6zYb7OW"
      },
      "source": [
        "# Evaluate the model"
      ]
    },
    {
      "cell_type": "code",
      "execution_count": 22,
      "metadata": {
        "colab": {
          "base_uri": "https://localhost:8080/"
        },
        "id": "EbvDpeqzb9gg",
        "outputId": "cb9aaecd-5ab9-4b51-f5dd-abb002aa37b3"
      },
      "outputs": [
        {
          "name": "stdout",
          "output_type": "stream",
          "text": [
            "3/3 [==============================] - 17s 4s/step - loss: 0.5696 - accuracy: 0.8832\n"
          ]
        },
        {
          "data": {
            "text/plain": [
              "[0.5695869326591492, 0.8832116723060608]"
            ]
          },
          "execution_count": 22,
          "metadata": {},
          "output_type": "execute_result"
        }
      ],
      "source": [
        "model.evaluate(validation_generator)"
      ]
    },
    {
      "cell_type": "markdown",
      "metadata": {
        "id": "M0Cel5w5cSSy"
      },
      "source": [
        "# Plot training history"
      ]
    },
    {
      "cell_type": "code",
      "execution_count": 23,
      "metadata": {
        "colab": {
          "base_uri": "https://localhost:8080/",
          "height": 455
        },
        "id": "AeRZY92rebG4",
        "outputId": "e07164e1-e791-413f-986c-4f34e8667217"
      },
      "outputs": [
        {
          "data": {
            "image/png": "[encoded data removed]",
            "text/plain": [
              "<Figure size 640x480 with 1 Axes>"
            ]
          },
          "metadata": {},
          "output_type": "display_data"
        }
      ],
      "source": [
        "plt.plot(history.history['accuracy'], label='accuracy')\n",
        "plt.plot(history.history['val_accuracy'], label = 'val_accuracy')\n",
        "plt.xlabel('Epoch')\n",
        "plt.ylabel('Accuracy')\n",
        "plt.ylim([0, 1])\n",
        "plt.legend(loc='lower right')\n",
        "plt.show()"
      ]
    },
    {
      "cell_type": "markdown",
      "metadata": {
        "id": "oXxicYNmjJq8"
      },
      "source": [
        "# Plot loss graph"
      ]
    },
    {
      "cell_type": "code",
      "execution_count": 24,
      "metadata": {
        "colab": {
          "base_uri": "https://localhost:8080/",
          "height": 472
        },
        "id": "zvrsJPKejPz4",
        "outputId": "d84b3ac2-a8e4-4b16-aa7e-2f80446c31e9"
      },
      "outputs": [
        {
          "data": {
            "image/png": "[encoded data removed]",
            "text/plain": [
              "<Figure size 640x480 with 1 Axes>"
            ]
          },
          "metadata": {},
          "output_type": "display_data"
        }
      ],
      "source": [
        "def plot_loss(history):\n",
        "  _, ax = plt.subplots()\n",
        "\n",
        "  plt.plot(history.history['loss'])\n",
        "  ax.set_xlabel('Epochs')\n",
        "  ax.set_ylabel('Error')\n",
        "  ax.set_title('Loss curve')\n",
        "\n",
        "  plt.show()\n",
        "\n",
        "plot_loss(history)"
      ]
    },
    {
      "cell_type": "code",
      "execution_count": 27,
      "metadata": {
        "colab": {
          "base_uri": "https://localhost:8080/"
        },
        "id": "jjjavZ5GvlOQ",
        "outputId": "5ce3836b-3043-43d0-9a02-4f50201408ed"
      },
      "outputs": [
        {
          "name": "stdout",
          "output_type": "stream",
          "text": [
            "1/1 [==============================] - 1s 865ms/step\n",
            "1/1 [==============================] - 0s 79ms/step\n",
            "1/1 [==============================] - 0s 71ms/step\n",
            "1/1 [==============================] - 0s 63ms/step\n",
            "1/1 [==============================] - 0s 74ms/step\n",
            "1/1 [==============================] - 0s 58ms/step\n",
            "1/1 [==============================] - 0s 76ms/step\n",
            "1/1 [==============================] - 0s 75ms/step\n",
            "1/1 [==============================] - 0s 98ms/step\n",
            "1/1 [==============================] - 0s 68ms/step\n",
            "1/1 [==============================] - 0s 89ms/step\n",
            "1/1 [==============================] - 0s 68ms/step\n",
            "1/1 [==============================] - 0s 68ms/step\n",
            "1/1 [==============================] - 0s 75ms/step\n",
            "1/1 [==============================] - 0s 109ms/step\n",
            "1/1 [==============================] - 0s 65ms/step\n",
            "1/1 [==============================] - 0s 100ms/step\n",
            "1/1 [==============================] - 0s 61ms/step\n",
            "1/1 [==============================] - 0s 76ms/step\n",
            "1/1 [==============================] - 0s 92ms/step\n",
            "1/1 [==============================] - 0s 92ms/step\n",
            "1/1 [==============================] - 0s 62ms/step\n",
            "1/1 [==============================] - 0s 64ms/step\n",
            "1/1 [==============================] - 0s 72ms/step\n",
            "1/1 [==============================] - 0s 67ms/step\n",
            "1/1 [==============================] - 0s 65ms/step\n",
            "1/1 [==============================] - 0s 66ms/step\n",
            "1/1 [==============================] - 0s 71ms/step\n",
            "1/1 [==============================] - 0s 59ms/step\n",
            "1/1 [==============================] - 0s 57ms/step\n",
            "1/1 [==============================] - 0s 67ms/step\n",
            "1/1 [==============================] - 0s 136ms/step\n",
            "1/1 [==============================] - 0s 64ms/step\n",
            "1/1 [==============================] - 0s 62ms/step\n",
            "1/1 [==============================] - 0s 63ms/step\n",
            "1/1 [==============================] - 0s 58ms/step\n",
            "1/1 [==============================] - 0s 59ms/step\n",
            "1/1 [==============================] - 0s 68ms/step\n",
            "1/1 [==============================] - 0s 82ms/step\n",
            "1/1 [==============================] - 0s 80ms/step\n",
            "1/1 [==============================] - 0s 90ms/step\n",
            "1/1 [==============================] - 0s 71ms/step\n",
            "1/1 [==============================] - 0s 96ms/step\n",
            "1/1 [==============================] - 0s 74ms/step\n",
            "1/1 [==============================] - 0s 68ms/step\n",
            "1/1 [==============================] - 0s 64ms/step\n",
            "1/1 [==============================] - 0s 63ms/step\n",
            "1/1 [==============================] - 0s 59ms/step\n",
            "1/1 [==============================] - 0s 69ms/step\n",
            "1/1 [==============================] - 0s 57ms/step\n",
            "1/1 [==============================] - 0s 59ms/step\n",
            "1/1 [==============================] - 0s 67ms/step\n",
            "1/1 [==============================] - 0s 64ms/step\n",
            "1/1 [==============================] - 0s 58ms/step\n",
            "1/1 [==============================] - 0s 60ms/step\n",
            "1/1 [==============================] - 0s 63ms/step\n",
            "1/1 [==============================] - 0s 64ms/step\n",
            "1/1 [==============================] - 0s 63ms/step\n",
            "1/1 [==============================] - 0s 59ms/step\n",
            "1/1 [==============================] - 0s 103ms/step\n",
            "            Image Actual Class Predicted Class\n",
            "0   banana_78.jpg       banana          banana\n",
            "1   banana_93.jpg       banana          banana\n",
            "2   banana_87.jpg       banana          banana\n",
            "3   banana_86.jpg       banana          orange\n",
            "4   banana_92.jpg       banana          banana\n",
            "5   banana_79.jpg       banana          banana\n",
            "6    apple_89.jpg        apple           apple\n",
            "7   banana_84.jpg       banana          banana\n",
            "8   banana_90.jpg       banana          banana\n",
            "9   banana_91.jpg       banana          banana\n",
            "10  banana_85.jpg       banana          banana\n",
            "11   apple_77.jpg        apple           apple\n",
            "12   apple_88.jpg        apple           apple\n",
            "13  banana_81.jpg       banana          banana\n",
            "14  banana_94.jpg       banana           mixed\n",
            "15  banana_80.jpg       banana          banana\n",
            "16  banana_82.jpg       banana          banana\n",
            "17  banana_83.jpg       banana          banana\n",
            "18   mixed_23.jpg        mixed          banana\n",
            "19  orange_77.jpg       orange          orange\n",
            "20  orange_89.jpg       orange          orange\n",
            "21   mixed_22.jpg        mixed           apple\n",
            "22   mixed_21.jpg        mixed          orange\n",
            "23   mixed_25.jpg        mixed           apple\n",
            "24   mixed_24.jpg        mixed           mixed\n",
            "25  orange_95.jpg       orange          orange\n",
            "26  orange_81.jpg       orange          orange\n",
            "27  orange_80.jpg       orange          orange\n",
            "28  orange_94.jpg       orange          orange\n",
            "29  orange_82.jpg       orange          orange\n",
            "30  orange_83.jpg       orange          orange\n",
            "31  orange_78.jpg       orange          orange\n",
            "32  orange_87.jpg       orange          orange\n",
            "33  orange_93.jpg       orange          orange\n",
            "34  orange_92.jpg       orange          orange\n",
            "35  orange_86.jpg       orange          orange\n",
            "36  orange_79.jpg       orange          orange\n",
            "37  orange_90.jpg       orange          orange\n",
            "38  orange_84.jpg       orange          orange\n",
            "39  orange_85.jpg       orange          orange\n",
            "40  orange_91.jpg       orange          orange\n",
            "41   apple_83.jpg        apple           apple\n",
            "42   apple_82.jpg        apple           apple\n",
            "43   apple_80.jpg        apple           apple\n",
            "44   apple_94.jpg        apple           apple\n",
            "45   apple_95.jpg        apple           mixed\n",
            "46   apple_81.jpg        apple           apple\n",
            "47   apple_85.jpg        apple          orange\n",
            "48   apple_91.jpg        apple           apple\n",
            "49  banana_77.jpg       banana          banana\n",
            "50  banana_88.jpg       banana          banana\n",
            "51  banana_89.jpg       banana          banana\n",
            "52   apple_90.jpg        apple           apple\n",
            "53   apple_84.jpg        apple           apple\n",
            "54   apple_92.jpg        apple           apple\n",
            "55   apple_86.jpg        apple           apple\n",
            "56   apple_79.jpg        apple           apple\n",
            "57   apple_78.jpg        apple           apple\n",
            "58   apple_87.jpg        apple           apple\n",
            "59   apple_93.jpg        apple           apple\n",
            "\n",
            "Test Accuracy: 86.66666666666667%\n"
          ]
        }
      ],
      "source": [
        "# Make a folder to save the model\n",
        "os.makedirs('Models', exist_ok=True)\n",
        "\n",
        "# Save the model\n",
        "model.save('Models/image_classification_model.h5')\n",
        "\n",
        "# Load the trained model\n",
        "model = models.load_model('Models/image_classification_model.h5')\n",
        "\n",
        "# Get the list of test images\n",
        "test_images = [f for f in os.listdir(test_directory) if f.endswith('.jpg')]\n",
        "\n",
        "# Initialize lists to store results\n",
        "image_names = []\n",
        "actual_class = []\n",
        "predicted_class = []\n",
        "\n",
        "# Loop through each test image\n",
        "for image_name in test_images:\n",
        "    # Load and preprocess the test image\n",
        "    img_path = os.path.join(test_directory, image_name)\n",
        "    img = image.load_img(img_path, target_size=(image_height, image_width))\n",
        "    img_array = image.img_to_array(img)\n",
        "    img_array = np.expand_dims(img_array, axis=0)\n",
        "    img_array /= 255.0\n",
        "\n",
        "    # Make predictions\n",
        "    predictions = model.predict(img_array)\n",
        "\n",
        "    # Get the predicted class index\n",
        "    predicted_label = np.argmax(predictions)\n",
        "    actual_label = image_name.split('_')[0]\n",
        "\n",
        "    # Store results\n",
        "    image_names.append(image_name)\n",
        "    actual_class.append(actual_label)\n",
        "    predicted_class.append(predicted_label)\n",
        "\n",
        "# Create a DataFrame to display the results\n",
        "results_df = pd.DataFrame({'Image': image_names, 'Actual Class': actual_class, 'Predicted Class': predicted_class})\n",
        "\n",
        "# Define class labels\n",
        "class_labels = {0: 'apple', 1: 'banana', 2: 'mixed', 3: 'orange'}\n",
        "results_df['Predicted Class'] = results_df['Predicted Class'].map(class_labels)\n",
        "\n",
        "# Display the results\n",
        "print(results_df)\n",
        "\n",
        "# Make a folder to save the results\n",
        "os.makedirs('Results', exist_ok=True)\n",
        "\n",
        "# Save the results to a CSV file\n",
        "results_df.to_csv('Results/result.csv', index=False)\n",
        "\n",
        "# Calculate accuracy\n",
        "correct_predictions = np.sum(np.array(actual_class) == np.array(results_df['Predicted Class']))\n",
        "total_predictions = len(test_images)\n",
        "accuracy = correct_predictions / total_predictions\n",
        "\n",
        "# Display accuracy\n",
        "print(f'\\nTest Accuracy: {accuracy * 100}%')"
      ]
    }
  ],
  "metadata": {
    "accelerator": "GPU",
    "colab": {
      "gpuType": "T4",
      "machine_shape": "hm",
      "provenance": []
    },
    "kernelspec": {
      "display_name": "Python 3",
      "name": "python3"
    },
    "language_info": {
      "codemirror_mode": {
        "name": "ipython",
        "version": 3
      },
      "file_extension": ".py",
      "mimetype": "text/x-python",
      "name": "python",
      "nbconvert_exporter": "python",
      "pygments_lexer": "ipython3",
      "version": "3.11.5"
    }
  },
  "nbformat": 4,
  "nbformat_minor": 0
}
